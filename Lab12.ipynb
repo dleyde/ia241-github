{
 "cells": [
  {
   "cell_type": "code",
   "execution_count": 1,
   "id": "6ebfd128",
   "metadata": {},
   "outputs": [
    {
     "name": "stdout",
     "output_type": "stream",
     "text": [
      "Looking in indexes: https://pypi.org/simple, https://pip.repos.neuron.amazonaws.com\r\n",
      "Requirement already satisfied: xlrd in /home/ec2-user/anaconda3/envs/python3/lib/python3.10/site-packages (2.0.1)\r\n"
     ]
    }
   ],
   "source": [
    "!pip install xlrd\n",
    "import pandas as pd"
   ]
  },
  {
   "cell_type": "code",
   "execution_count": 2,
   "id": "deb61214",
   "metadata": {},
   "outputs": [],
   "source": [
    "df = pd.read_excel('s3://dleyde-ia240-s3/house_price (2).xlsx')"
   ]
  },
  {
   "cell_type": "code",
   "execution_count": 5,
   "id": "4f4ba8ba",
   "metadata": {},
   "outputs": [
    {
     "name": "stdout",
     "output_type": "stream",
     "text": [
      "     ID   price  bedroom  bathroom          house_type  lot_size  built_in  \\\n",
      "0   993  229900        3         2  single-family home     10018      2002   \n",
      "1   994  149900        4         2  single-family home      8712      1975   \n",
      "2   995  229900        3         2  single-family home     13504      1988   \n",
      "3   996  359000        5         4  single-family home     10130      1997   \n",
      "4   999  394000        3         2  single-family home     18295      2001   \n",
      "5  1000  349900        3         2  single-family home    204732      1967   \n",
      "6  1002  148500        3         1  single-family home      9147      1959   \n",
      "7  1003  134900        2         2           townhouse      2300      1994   \n",
      "8  1004  265000        3         3  single-family home     13939      1998   \n",
      "9  1005  149900        4         3           townhouse      2291      1999   \n",
      "\n",
      "   area  days  views  unit_price  \n",
      "0  1541    77   1357  149.188838  \n",
      "1  1810     5   1282   82.817680  \n",
      "2  1456    76    947  157.898352  \n",
      "3  2903    79    951  123.665174  \n",
      "4  2616    73    709  150.611621  \n",
      "5  3850    42    366   90.883117  \n",
      "6  1000    17    328  148.500000  \n",
      "7   920    56    328  146.630435  \n",
      "8  2705    12    362   97.966728  \n",
      "9  1440     4    137  104.097222  \n"
     ]
    }
   ],
   "source": [
    "unit_price = df['price'].div(df['area'])\n",
    "df['unit_price'] = unit_price\n",
    "print(df.head(10))"
   ]
  },
  {
   "cell_type": "code",
   "execution_count": 7,
   "id": "9cf73a4a",
   "metadata": {},
   "outputs": [
    {
     "name": "stdout",
     "output_type": "stream",
     "text": [
      "single-family home    36\n",
      "townhouse              3\n",
      "condo                  2\n",
      "Name: house_type, dtype: int64\n"
     ]
    }
   ],
   "source": [
    "house_type_count = df['house_type'].value_counts()\n",
    "print(house_type_count)"
   ]
  },
  {
   "cell_type": "code",
   "execution_count": 9,
   "id": "b66374d9",
   "metadata": {},
   "outputs": [
    {
     "name": "stdout",
     "output_type": "stream",
     "text": [
      "The average house price for a house with more than 2 bathrooms is $383,645.45\n"
     ]
    }
   ],
   "source": [
    "avg_price_more_than_two_bathrooms = df.loc[df['bathroom'] > 2, 'price'].mean()\n",
    "print('The average house price for a house with more than 2 bathrooms is ${:,.2f}'.format(avg_price_more_than_two_bathrooms))"
   ]
  },
  {
   "cell_type": "code",
   "execution_count": 10,
   "id": "cd8452e5",
   "metadata": {},
   "outputs": [
    {
     "name": "stdout",
     "output_type": "stream",
     "text": [
      "The median unit price is $130.13\n",
      "The mean unit price is $167.46\n"
     ]
    }
   ],
   "source": [
    "median_unit_price = df['unit_price'].median()\n",
    "mean_unit_price = df['unit_price'].mean()\n",
    "\n",
    "print(f\"The median unit price is ${median_unit_price:,.2f}\")\n",
    "print(f\"The mean unit price is ${mean_unit_price:,.2f}\")\n"
   ]
  },
  {
   "cell_type": "code",
   "execution_count": 12,
   "id": "bd96e9af",
   "metadata": {},
   "outputs": [
    {
     "name": "stdout",
     "output_type": "stream",
     "text": [
      "Average unit price by house type:\n",
      "condo: $113.67\n",
      "single-family home: $173.47\n",
      "townhouse: $131.16\n"
     ]
    }
   ],
   "source": [
    "# Compute average unit price by house type\n",
    "avg_unit_price_by_house_type = df['unit_price'].groupby(df['house_type']).mean()\n",
    "\n",
    "# Print results\n",
    "print(\"Average unit price by house type:\")\n",
    "for house_type, avg_unit_price in avg_unit_price_by_house_type.items():\n",
    "    print(f\"{house_type}: ${avg_unit_price:.2f}\")\n"
   ]
  },
  {
   "cell_type": "code",
   "execution_count": 15,
   "id": "a8fc7230",
   "metadata": {},
   "outputs": [
    {
     "name": "stdout",
     "output_type": "stream",
     "text": [
      "Linear regression results:\n",
      "  Slope: 79.95\n",
      "  Intercept: 156254.76\n",
      "  R-squared: 0.23\n",
      "  p-value: 0.00\n"
     ]
    }
   ],
   "source": [
    "from scipy import stats\n",
    "\n",
    "x = df['area']\n",
    "y = df['price']\n",
    "slope, intercept, r_value, p_value, std_err = stats.linregress(x, y)\n",
    "\n",
    "print(\"Linear regression results:\")\n",
    "print(f\"  Slope: {slope:.2f}\")\n",
    "print(f\"  Intercept: {intercept:.2f}\")\n",
    "print(f\"  R-squared: {r_value**2:.2f}\")\n",
    "print(f\"  p-value: {p_value:.2f}\")\n"
   ]
  },
  {
   "cell_type": "code",
   "execution_count": 16,
   "id": "c1688fd7",
   "metadata": {},
   "outputs": [
    {
     "name": "stdout",
     "output_type": "stream",
     "text": [
      "Predicted price for a 2000 sqft house: $316,164.68\n"
     ]
    }
   ],
   "source": [
    "sqft = 2000\n",
    "predicted_price = slope * sqft + intercept\n",
    "\n",
    "print(f\"Predicted price for a {sqft} sqft house: ${predicted_price:,.2f}\")\n"
   ]
  },
  {
   "cell_type": "code",
   "execution_count": null,
   "id": "46fff505",
   "metadata": {},
   "outputs": [],
   "source": []
  }
 ],
 "metadata": {
  "kernelspec": {
   "display_name": "conda_python3",
   "language": "python",
   "name": "conda_python3"
  },
  "language_info": {
   "codemirror_mode": {
    "name": "ipython",
    "version": 3
   },
   "file_extension": ".py",
   "mimetype": "text/x-python",
   "name": "python",
   "nbconvert_exporter": "python",
   "pygments_lexer": "ipython3",
   "version": "3.10.8"
  }
 },
 "nbformat": 4,
 "nbformat_minor": 5
}
